{
 "cells": [
  {
   "cell_type": "markdown",
   "metadata": {},
   "source": [
    "## 백준 9935 문자열 폭발"
   ]
  },
  {
   "cell_type": "markdown",
   "metadata": {},
   "source": [
    "상근이는 문자열에 폭발 문자열을 심어 놓았다. 폭발 문자열이 폭발하면 그 문자는 문자열에서 사라지며, 남은 문자열은 합쳐지게 된다.\n",
    "\n",
    "폭발은 다음과 같은 과정으로 진행된다.\n",
    "\n",
    "문자열이 폭발 문자열을 포함하고 있는 경우에, 모든 폭발 문자열이 폭발하게 된다. 남은 문자열을 순서대로 이어 붙여 새로운 문자열을 만든다.\n",
    "새로 생긴 문자열에 폭발 문자열이 포함되어 있을 수도 있다.\n",
    "폭발은 폭발 문자열이 문자열에 없을 때까지 계속된다.\n",
    "상근이는 모든 폭발이 끝난 후에 어떤 문자열이 남는지 구해보려고 한다. 남아있는 문자가 없는 경우가 있다. 이때는 \"FRULA\"를 출력한다.\n",
    "\n",
    "폭발 문자열은 같은 문자를 두 개 이상 포함하지 않는다."
   ]
  },
  {
   "cell_type": "code",
   "execution_count": 13,
   "metadata": {},
   "outputs": [],
   "source": [
    "string = input()  # 입력 문자열\n",
    "bomb = input()  # 폭발 문자열\n",
    "stack = []"
   ]
  },
  {
   "cell_type": "code",
   "execution_count": 15,
   "metadata": {},
   "outputs": [
    {
     "data": {
      "text/plain": [
       "('12ab112ab2ab', '12ab', [])"
      ]
     },
     "execution_count": 15,
     "metadata": {},
     "output_type": "execute_result"
    }
   ],
   "source": [
    "string, bomb, stack"
   ]
  },
  {
   "cell_type": "code",
   "execution_count": 14,
   "metadata": {},
   "outputs": [
    {
     "name": "stdout",
     "output_type": "stream",
     "text": [
      "1 ['1']\n",
      "b 1\n",
      "2 ['1', '2']\n",
      "b 12\n",
      "a ['1', '2', 'a']\n",
      "b 12a\n",
      "b ['1', '2', 'a', 'b']\n",
      "b 12ab\n",
      "1 ['1']\n",
      "b 1\n",
      "1 ['1', '1']\n",
      "b 11\n",
      "2 ['1', '1', '2']\n",
      "b 112\n",
      "a ['1', '1', '2', 'a']\n",
      "b 112a\n",
      "b ['1', '1', '2', 'a', 'b']\n",
      "b 12ab\n",
      "2 ['1', '2']\n",
      "b 12\n",
      "a ['1', '2', 'a']\n",
      "b 12a\n",
      "b ['1', '2', 'a', 'b']\n",
      "b 12ab\n",
      "FRULA\n"
     ]
    }
   ],
   "source": [
    "for char in string:\n",
    "    stack.append(char)\n",
    "    print(char, stack)\n",
    "    print(bomb[-1], ''.join(stack[-len(bomb):]))\n",
    "    if char == bomb[-1] and ''.join(stack[-len(bomb):]) == bomb:\n",
    "        del stack[-len(bomb):]  # 폭발 문자열에 해당하는 부분 제거\n",
    "\n",
    "answer = ''.join(stack)\n",
    "print(answer if answer else \"FRULA\")"
   ]
  },
  {
   "cell_type": "code",
   "execution_count": null,
   "metadata": {},
   "outputs": [],
   "source": []
  },
  {
   "cell_type": "code",
   "execution_count": 16,
   "metadata": {},
   "outputs": [],
   "source": [
    "string = input()  # 입력 문자열\n",
    "bomb = input()  # 폭발 문자열\n",
    "stack = []"
   ]
  },
  {
   "cell_type": "code",
   "execution_count": 17,
   "metadata": {},
   "outputs": [
    {
     "data": {
      "text/plain": [
       "('mirkovC4nizCC44', 'C4', [])"
      ]
     },
     "execution_count": 17,
     "metadata": {},
     "output_type": "execute_result"
    }
   ],
   "source": [
    "string, bomb, stack"
   ]
  },
  {
   "cell_type": "code",
   "execution_count": 18,
   "metadata": {},
   "outputs": [
    {
     "name": "stdout",
     "output_type": "stream",
     "text": [
      "m ['m']\n",
      "4 m\n",
      "i ['m', 'i']\n",
      "4 mi\n",
      "r ['m', 'i', 'r']\n",
      "4 ir\n",
      "k ['m', 'i', 'r', 'k']\n",
      "4 rk\n",
      "o ['m', 'i', 'r', 'k', 'o']\n",
      "4 ko\n",
      "v ['m', 'i', 'r', 'k', 'o', 'v']\n",
      "4 ov\n",
      "C ['m', 'i', 'r', 'k', 'o', 'v', 'C']\n",
      "4 vC\n",
      "4 ['m', 'i', 'r', 'k', 'o', 'v', 'C', '4']\n",
      "4 C4\n",
      "n ['m', 'i', 'r', 'k', 'o', 'v', 'n']\n",
      "4 vn\n",
      "i ['m', 'i', 'r', 'k', 'o', 'v', 'n', 'i']\n",
      "4 ni\n",
      "z ['m', 'i', 'r', 'k', 'o', 'v', 'n', 'i', 'z']\n",
      "4 iz\n",
      "C ['m', 'i', 'r', 'k', 'o', 'v', 'n', 'i', 'z', 'C']\n",
      "4 zC\n",
      "C ['m', 'i', 'r', 'k', 'o', 'v', 'n', 'i', 'z', 'C', 'C']\n",
      "4 CC\n",
      "4 ['m', 'i', 'r', 'k', 'o', 'v', 'n', 'i', 'z', 'C', 'C', '4']\n",
      "4 C4\n",
      "4 ['m', 'i', 'r', 'k', 'o', 'v', 'n', 'i', 'z', 'C', '4']\n",
      "4 C4\n",
      "mirkovniz\n"
     ]
    }
   ],
   "source": [
    "for char in string:\n",
    "    stack.append(char)\n",
    "    print(char, stack)\n",
    "    print(bomb[-1], ''.join(stack[-len(bomb):]))\n",
    "    if char == bomb[-1] and ''.join(stack[-len(bomb):]) == bomb:\n",
    "        del stack[-len(bomb):]  # 폭발 문자열에 해당하는 부분 제거\n",
    "\n",
    "answer = ''.join(stack)\n",
    "print(answer if answer else \"FRULA\")"
   ]
  },
  {
   "cell_type": "code",
   "execution_count": null,
   "metadata": {},
   "outputs": [],
   "source": []
  }
 ],
 "metadata": {
  "kernelspec": {
   "display_name": "base",
   "language": "python",
   "name": "python3"
  },
  "language_info": {
   "codemirror_mode": {
    "name": "ipython",
    "version": 3
   },
   "file_extension": ".py",
   "mimetype": "text/x-python",
   "name": "python",
   "nbconvert_exporter": "python",
   "pygments_lexer": "ipython3",
   "version": "3.11.7"
  }
 },
 "nbformat": 4,
 "nbformat_minor": 2
}
