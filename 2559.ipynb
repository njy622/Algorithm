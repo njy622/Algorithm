{
 "cells": [
  {
   "cell_type": "code",
   "execution_count": 20,
   "metadata": {},
   "outputs": [],
   "source": [
    "N, K = map(int, input().split())  # N과 K를 입력 받습니다."
   ]
  },
  {
   "cell_type": "code",
   "execution_count": 21,
   "metadata": {},
   "outputs": [],
   "source": [
    "temperatures = list(map(int, input().split()))   # 온도 리스트를 입력 받습니다."
   ]
  },
  {
   "cell_type": "code",
   "execution_count": 22,
   "metadata": {},
   "outputs": [
    {
     "name": "stdout",
     "output_type": "stream",
     "text": [
      "[3, -2, -4, -9, 0]\n",
      "-12\n"
     ]
    }
   ],
   "source": [
    "# 초기 윈도우 설정 (첫 K일의 합)\n",
    "current_sum = sum(temperatures[:K])\n",
    "print(temperatures[:K])\n",
    "max_sum = current_sum\n",
    "print(max_sum)"
   ]
  },
  {
   "cell_type": "code",
   "execution_count": 23,
   "metadata": {},
   "outputs": [
    {
     "name": "stdout",
     "output_type": "stream",
     "text": [
      "3 3 0\n",
      "7 -2 9\n",
      "13 -4 17\n",
      "8 -9 17\n",
      "-3 0 -3\n",
      "31\n"
     ]
    }
   ],
   "source": [
    "# 슬라이딩 윈도우\n",
    "for i in range(K, N):\n",
    "    print(temperatures[i],temperatures[i-K], temperatures[i] - temperatures[i-K])\n",
    "    current_sum += temperatures[i] - temperatures[i-K]\n",
    "    max_sum = max(max_sum, current_sum)\n",
    "\n",
    "print(max_sum)"
   ]
  },
  {
   "cell_type": "code",
   "execution_count": null,
   "metadata": {},
   "outputs": [],
   "source": []
  }
 ],
 "metadata": {
  "kernelspec": {
   "display_name": "base",
   "language": "python",
   "name": "python3"
  },
  "language_info": {
   "codemirror_mode": {
    "name": "ipython",
    "version": 3
   },
   "file_extension": ".py",
   "mimetype": "text/x-python",
   "name": "python",
   "nbconvert_exporter": "python",
   "pygments_lexer": "ipython3",
   "version": "3.11.7"
  }
 },
 "nbformat": 4,
 "nbformat_minor": 2
}
